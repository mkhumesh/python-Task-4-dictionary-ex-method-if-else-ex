{
 "cells": [
  {
   "cell_type": "markdown",
   "id": "be99b59c-e0b0-4066-8056-73d68b685e63",
   "metadata": {},
   "source": [
    "# If Else Statment example "
   ]
  },
  {
   "cell_type": "code",
   "execution_count": 2,
   "id": "352eb1c2-e047-46cd-8e8a-49a37730979b",
   "metadata": {},
   "outputs": [
    {
     "name": "stdout",
     "output_type": "stream",
     "text": [
      "True\n"
     ]
    }
   ],
   "source": [
    "if 25 < 40:\n",
    "    print(True)"
   ]
  },
  {
   "cell_type": "code",
   "execution_count": 3,
   "id": "48e1e5b0-2b12-4bb2-ba07-ff5dcde928d3",
   "metadata": {},
   "outputs": [
    {
     "name": "stdout",
     "output_type": "stream",
     "text": [
      "False\n"
     ]
    }
   ],
   "source": [
    "if 10 > 21:\n",
    "    print(True)\n",
    "else:\n",
    "    print(False)"
   ]
  },
  {
   "cell_type": "code",
   "execution_count": 4,
   "id": "8f69a4b8-f12d-49b6-b63c-219684a92268",
   "metadata": {},
   "outputs": [
    {
     "name": "stdout",
     "output_type": "stream",
     "text": [
      "False\n"
     ]
    }
   ],
   "source": [
    "if 10 > 21:\n",
    "    print(True)\n",
    "else:\n",
    "    print(False)"
   ]
  },
  {
   "cell_type": "code",
   "execution_count": 5,
   "id": "71826be6-4c86-4dab-b5f5-dd7d2d2f3ead",
   "metadata": {},
   "outputs": [
    {
     "name": "stdout",
     "output_type": "stream",
     "text": [
      "avg\n"
     ]
    }
   ],
   "source": [
    "if 'hunter350' == 'n160':\n",
    "    print('Best')\n",
    "\n",
    "else:\n",
    "    print('avg')"
   ]
  },
  {
   "cell_type": "code",
   "execution_count": 6,
   "id": "bcbd2c43-d189-4734-8bb5-490fa8a13b98",
   "metadata": {},
   "outputs": [
    {
     "name": "stdin",
     "output_type": "stream",
     "text": [
      "custmor no 32\n"
     ]
    },
    {
     "name": "stdout",
     "output_type": "stream",
     "text": [
      "32\n",
      "top good\n"
     ]
    }
   ],
   "source": [
    "A1 = input('custmor no')\n",
    "print(A1)\n",
    "if int(A1) > 25:\n",
    "    print('top good')\n",
    "else:\n",
    "    print('good')\n",
    "\n",
    "    \n",
    "      "
   ]
  },
  {
   "cell_type": "code",
   "execution_count": 7,
   "id": "f91a5bc3-3c60-4385-965f-7443689178bb",
   "metadata": {},
   "outputs": [
    {
     "name": "stdin",
     "output_type": "stream",
     "text": [
      "custmor no 20\n"
     ]
    },
    {
     "name": "stdout",
     "output_type": "stream",
     "text": [
      "20\n",
      "top good\n"
     ]
    }
   ],
   "source": [
    "A2 = input('custmor no')\n",
    "print(A2)\n",
    "if int(A2) > 10:\n",
    "    print('top good')\n",
    "else:\n",
    "    print('good')\n",
    "\n",
    "    "
   ]
  },
  {
   "cell_type": "code",
   "execution_count": 8,
   "id": "f098e80c-9349-4121-8ca7-889316d4c0ae",
   "metadata": {},
   "outputs": [
    {
     "name": "stdin",
     "output_type": "stream",
     "text": [
      "types of car calsic\n"
     ]
    },
    {
     "name": "stdout",
     "output_type": "stream",
     "text": [
      "alto,i20,nano\n"
     ]
    }
   ],
   "source": [
    "car= input ('types of car')\n",
    "if car == 'sports car':\n",
    "    print('farari,lamborgini,bmw')\n",
    "else:\n",
    "    print('alto,i20,nano')"
   ]
  },
  {
   "cell_type": "code",
   "execution_count": 9,
   "id": "2488fe9a-b92f-428b-a0d8-aa76f5fa2ab1",
   "metadata": {},
   "outputs": [
    {
     "name": "stdin",
     "output_type": "stream",
     "text": [
      "types of car sports\n"
     ]
    },
    {
     "name": "stdout",
     "output_type": "stream",
     "text": [
      "farari,lamborgini,bmw\n"
     ]
    }
   ],
   "source": [
    "car1= input ('types of car')\n",
    "if car1 == 'sports':\n",
    "    print('farari,lamborgini,bmw')\n",
    "else:\n",
    "    print('alto,i20,nano')"
   ]
  },
  {
   "cell_type": "code",
   "execution_count": 33,
   "id": "fabebf15-f1c1-4728-a9ef-33e2320a6ea9",
   "metadata": {},
   "outputs": [
    {
     "name": "stdin",
     "output_type": "stream",
     "text": [
      "key press key\n",
      "relese relese\n"
     ]
    },
    {
     "name": "stdout",
     "output_type": "stream",
     "text": [
      "lock\n"
     ]
    }
   ],
   "source": [
    "car = input(\"key\")\n",
    "carunlock = input(\"relese\")\n",
    "\n",
    "if   car == \"press key\" and carunlock == \"relese\":\n",
    "    print(\"lock\")\n",
    "else:\n",
    "    print(\"unlock\")\n",
    "          "
   ]
  },
  {
   "cell_type": "code",
   "execution_count": 37,
   "id": "0cb31584-aafb-4f9e-a9b5-550899d4c397",
   "metadata": {},
   "outputs": [
    {
     "name": "stdin",
     "output_type": "stream",
     "text": [
      "key press hold key\n",
      "relese relese\n"
     ]
    },
    {
     "name": "stdout",
     "output_type": "stream",
     "text": [
      "unlock\n"
     ]
    }
   ],
   "source": [
    "car1 = input(\"key\")\n",
    "carunlock1 = input(\"relese\")\n",
    "\n",
    "if   car1 == \"press key\" and carunlock1 == \"relese\":\n",
    "    print(\"lock\")\n",
    "else:\n",
    "    print(\"unlock\")"
   ]
  },
  {
   "cell_type": "code",
   "execution_count": 10,
   "id": "2d771990-f885-45f2-aa80-38b6a770a967",
   "metadata": {},
   "outputs": [
    {
     "name": "stdout",
     "output_type": "stream",
     "text": [
      "+Ve\n"
     ]
    }
   ],
   "source": [
    "def check_no(no):\n",
    "    if no > 10:\n",
    "        return \"+Ve\"\n",
    "    elif no < 0:\n",
    "        return \"-Ve\"\n",
    "    else:\n",
    "        return \"Zero\"\n",
    "\n",
    "print(check_no(33)) "
   ]
  },
  {
   "cell_type": "code",
   "execution_count": 11,
   "id": "4df9a3a3-36e4-446a-9ee1-2b7d70f7e605",
   "metadata": {},
   "outputs": [
    {
     "name": "stdout",
     "output_type": "stream",
     "text": [
      "-Ve\n"
     ]
    }
   ],
   "source": [
    "def check_no(no):\n",
    "    if no > 10:\n",
    "        return \"+Ve\"\n",
    "    elif no < 0:\n",
    "        return \"-Ve\"\n",
    "    else:\n",
    "        return \"Zero\"\n",
    "\n",
    "print(check_no(-33)) "
   ]
  },
  {
   "cell_type": "code",
   "execution_count": 12,
   "id": "38bf656d-7e3e-4bb1-8a43-d548dcce629a",
   "metadata": {},
   "outputs": [
    {
     "name": "stdout",
     "output_type": "stream",
     "text": [
      "Zero\n"
     ]
    }
   ],
   "source": [
    "def check_no(no):\n",
    "    if no > 10:\n",
    "        return \"+Ve\"\n",
    "    elif no < 0:\n",
    "        return \"-Ve\"\n",
    "    else:\n",
    "        return \"Zero\"\n",
    "\n",
    "print(check_no(9)) "
   ]
  },
  {
   "cell_type": "code",
   "execution_count": 13,
   "id": "d1baea8a-2ccb-4ad7-b5a4-09cfe674943b",
   "metadata": {},
   "outputs": [
    {
     "name": "stdin",
     "output_type": "stream",
     "text": [
      "enter username admin\n",
      "enter password admin12\n"
     ]
    },
    {
     "name": "stdout",
     "output_type": "stream",
     "text": [
      "login_successful\n"
     ]
    }
   ],
   "source": [
    "username = input(\"enter username\")\n",
    "password = input(\"enter password\")\n",
    "if username ==\"admin\" and password==\"admin12\":\n",
    "    print(\"login_successful\")\n",
    "else:\n",
    "    print(\"login-error\")"
   ]
  },
  {
   "cell_type": "code",
   "execution_count": 14,
   "id": "2785aed2-6e00-4ddf-8fc9-4cc12f5d16dc",
   "metadata": {},
   "outputs": [
    {
     "name": "stdin",
     "output_type": "stream",
     "text": [
      "enter username admij\n",
      "enter password Admin12\n"
     ]
    },
    {
     "name": "stdout",
     "output_type": "stream",
     "text": [
      "login-error\n"
     ]
    }
   ],
   "source": [
    "username = input(\"enter username\")\n",
    "password = input(\"enter password\")\n",
    "if username ==\"admin\" and password==\"admin12\":\n",
    "    print(\"login_successful\")\n",
    "else:\n",
    "    print(\"login-error\")"
   ]
  },
  {
   "cell_type": "code",
   "execution_count": null,
   "id": "8f39b474-b929-4b70-8eb8-359ac60080eb",
   "metadata": {},
   "outputs": [],
   "source": []
  }
 ],
 "metadata": {
  "kernelspec": {
   "display_name": "Python 3 (ipykernel)",
   "language": "python",
   "name": "python3"
  },
  "language_info": {
   "codemirror_mode": {
    "name": "ipython",
    "version": 3
   },
   "file_extension": ".py",
   "mimetype": "text/x-python",
   "name": "python",
   "nbconvert_exporter": "python",
   "pygments_lexer": "ipython3",
   "version": "3.12.4"
  }
 },
 "nbformat": 4,
 "nbformat_minor": 5
}
