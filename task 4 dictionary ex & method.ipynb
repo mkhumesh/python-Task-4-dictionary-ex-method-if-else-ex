{
 "cells": [
  {
   "cell_type": "markdown",
   "id": "70b64724-d564-40f8-a5b2-d9d0ff0c94f1",
   "metadata": {},
   "source": [
    "# Dictionary \n",
    "* Dictionaries in Python are a collection of key-value pairs, where each key is associated with a value.\n",
    "* They are mutable, meaning they can be changed after they are created, and they do not allow duplicate keys, ensuring that each key is unique within a  dictionary.\n"
   ]
  },
  {
   "cell_type": "code",
   "execution_count": 5,
   "id": "9bb0b9f1-8d23-4509-84ab-ed4524af1720",
   "metadata": {},
   "outputs": [],
   "source": [
    "S1 ={}"
   ]
  },
  {
   "cell_type": "code",
   "execution_count": 7,
   "id": "54701500-0cc5-4d19-a867-0be644301237",
   "metadata": {},
   "outputs": [
    {
     "data": {
      "text/plain": [
       "{}"
      ]
     },
     "execution_count": 7,
     "metadata": {},
     "output_type": "execute_result"
    }
   ],
   "source": [
    "S1"
   ]
  },
  {
   "cell_type": "code",
   "execution_count": 9,
   "id": "f815c773-6e21-496b-b7b1-dd051e80f300",
   "metadata": {},
   "outputs": [
    {
     "data": {
      "text/plain": [
       "dict"
      ]
     },
     "execution_count": 9,
     "metadata": {},
     "output_type": "execute_result"
    }
   ],
   "source": [
    "type(S1)"
   ]
  },
  {
   "cell_type": "markdown",
   "id": "9ee03c1d-63be-4c9a-b7da-1973db240597",
   "metadata": {},
   "source": [
    "# 1) FROMKEYS\n",
    "* Definition and Usage: \n",
    "The fromkeys() method returns a dictionary with the specified keys and the specified value\n",
    "* keys :\tRequired. An iterable specifying the keys of the new dictionar\n",
    "* \n",
    "valu :e\tOptional. The value for all keys. Default value is None.\r\n",
    "\r\n"
   ]
  },
  {
   "cell_type": "markdown",
   "id": "ac1c38f0-9802-4aef-b545-10da1500d3d1",
   "metadata": {},
   "source": [
    "x = ('key1', 'key2', 'key3')\n",
    "y = 0\n",
    "\n",
    "thisdict = dict.fromkeys(x, y)\n",
    "\n",
    "\n",
    "print(thisdict)\n"
   ]
  },
  {
   "cell_type": "code",
   "execution_count": 26,
   "id": "a82e7936-3a0a-46b0-919b-49f2b2a2f42d",
   "metadata": {},
   "outputs": [],
   "source": [
    "A1 = ('GTA_SA','GAT_VI','GAT_V')\n",
    "A2 = 'TOP_BEST'"
   ]
  },
  {
   "cell_type": "code",
   "execution_count": 28,
   "id": "7b262a3b-c730-4e6a-9a24-271702a4e0eb",
   "metadata": {},
   "outputs": [],
   "source": [
    "A3 = dict.fromkeys(A1, A2)"
   ]
  },
  {
   "cell_type": "code",
   "execution_count": 30,
   "id": "61b9a360-6e21-4779-9028-81fb1c638e20",
   "metadata": {},
   "outputs": [
    {
     "data": {
      "text/plain": [
       "{'GTA_SA': 'TOP_BEST', 'GAT_VI': 'TOP_BEST', 'GAT_V': 'TOP_BEST'}"
      ]
     },
     "execution_count": 30,
     "metadata": {},
     "output_type": "execute_result"
    }
   ],
   "source": [
    "A3"
   ]
  },
  {
   "cell_type": "code",
   "execution_count": null,
   "id": "460219b9-286d-4d99-8481-dcb742eef521",
   "metadata": {},
   "outputs": [],
   "source": []
  },
  {
   "cell_type": "markdown",
   "id": "a6c520c3-28dc-40c5-828b-e3820ba1f232",
   "metadata": {},
   "source": [
    "# 2) GET \n",
    "* Definition and Usage :\n",
    "The get() method returns the value of the item with the specified key\n",
    "* keyname :\tRequired The keyname of the item you want to return the value from\n",
    "* \n",
    "valu:e\tOptiona. A value to return if the specified key does not exist.\r\n",
    "Default value None."
   ]
  },
  {
   "cell_type": "code",
   "execution_count": 44,
   "id": "3654c9e8-7fff-4af7-9dd7-6968864a6aab",
   "metadata": {},
   "outputs": [],
   "source": [
    "b1 ={\n",
    "    'food': 'apple',\n",
    "    'price': '120',\n",
    "    'kg': '1kg',\n",
    "    'quntity':'3q'\n",
    "}\n",
    "    "
   ]
  },
  {
   "cell_type": "code",
   "execution_count": 46,
   "id": "1cc08f09-2eb1-4e30-8e53-050e3a7d5813",
   "metadata": {},
   "outputs": [
    {
     "data": {
      "text/plain": [
       "{'food': 'apple', 'price': '120', 'kg': '1kg', 'quntity': '3q'}"
      ]
     },
     "execution_count": 46,
     "metadata": {},
     "output_type": "execute_result"
    }
   ],
   "source": [
    "b1"
   ]
  },
  {
   "cell_type": "code",
   "execution_count": 72,
   "id": "b06321f9-906e-4a5c-89fa-5e38be579e12",
   "metadata": {},
   "outputs": [],
   "source": [
    "food = b1.get(\"price\", 120)"
   ]
  },
  {
   "cell_type": "code",
   "execution_count": 73,
   "id": "5a30c2a6-1613-4709-a578-46c3d11ab14e",
   "metadata": {},
   "outputs": [
    {
     "data": {
      "text/plain": [
       "'120'"
      ]
     },
     "execution_count": 73,
     "metadata": {},
     "output_type": "execute_result"
    }
   ],
   "source": [
    "food"
   ]
  },
  {
   "cell_type": "code",
   "execution_count": 78,
   "id": "7c776747-4001-46c1-8a82-ff41ed373d41",
   "metadata": {},
   "outputs": [],
   "source": [
    "shops = b1.get(\"shop\", 1)"
   ]
  },
  {
   "cell_type": "code",
   "execution_count": 80,
   "id": "f9bdaa1f-af8b-48e5-a5d7-670980008d3e",
   "metadata": {},
   "outputs": [
    {
     "data": {
      "text/plain": [
       "1"
      ]
     },
     "execution_count": 80,
     "metadata": {},
     "output_type": "execute_result"
    }
   ],
   "source": [
    "shops"
   ]
  },
  {
   "cell_type": "code",
   "execution_count": null,
   "id": "366c58a8-2038-400d-82a2-c6f1257a8232",
   "metadata": {},
   "outputs": [],
   "source": []
  },
  {
   "cell_type": "markdown",
   "id": "bc637f09-1b22-4073-8f28-4a9efb0b6524",
   "metadata": {},
   "source": [
    "# 3) ITEMS\n",
    "* Definition : \n",
    "The items() method returns a view object. The view object contains the key-value pairs of the dictionary, as tuples in a list \n",
    "\r\n",
    "The view object will reflect any changes done to the dictionary, see example bel\n",
    "* When an item in the dictionary changes value, the view object also gets updatedow.\r\n",
    "\r\n"
   ]
  },
  {
   "cell_type": "code",
   "execution_count": 90,
   "id": "e4761370-18f7-4587-9b2a-d48b9572a9f6",
   "metadata": {},
   "outputs": [],
   "source": [
    "C1 ={\n",
    "    'COMPANY': 'AUTOMOBLIE',\n",
    "    'MODEL': 'CARS',\n",
    "     'TYPES' : 'CLASIC'\n",
    "}"
   ]
  },
  {
   "cell_type": "code",
   "execution_count": 151,
   "id": "5c7b2145-268d-4463-b4ba-400d25e30d3b",
   "metadata": {},
   "outputs": [
    {
     "data": {
      "text/plain": [
       "{'COMPANY': 'AUTOMOBLIE', 'MODEL': 'CARS', 'TYPES': 'soparts'}"
      ]
     },
     "execution_count": 151,
     "metadata": {},
     "output_type": "execute_result"
    }
   ],
   "source": [
    "C1"
   ]
  },
  {
   "cell_type": "code",
   "execution_count": 109,
   "id": "686e5eda-684c-4eee-a78d-853ca9fbe4e7",
   "metadata": {},
   "outputs": [],
   "source": [
    "C1['TYPES'] = 'soparts'"
   ]
  },
  {
   "cell_type": "code",
   "execution_count": 111,
   "id": "7f22ea13-6b0f-4f62-9583-aef39e8dc8ed",
   "metadata": {},
   "outputs": [
    {
     "data": {
      "text/plain": [
       "{'COMPANY': 'AUTOMOBLIE', 'MODEL': 'CARS', 'TYPES': 'soparts'}"
      ]
     },
     "execution_count": 111,
     "metadata": {},
     "output_type": "execute_result"
    }
   ],
   "source": [
    "C1"
   ]
  },
  {
   "cell_type": "code",
   "execution_count": 113,
   "id": "307443ba-95f7-4711-a390-904eb9783860",
   "metadata": {},
   "outputs": [],
   "source": [
    "C2 = C1.items()"
   ]
  },
  {
   "cell_type": "code",
   "execution_count": 115,
   "id": "2af1e5e3-52b1-4af7-a1da-b5e4b4d54661",
   "metadata": {},
   "outputs": [
    {
     "data": {
      "text/plain": [
       "dict_items([('COMPANY', 'AUTOMOBLIE'), ('MODEL', 'CARS'), ('TYPES', 'soparts')])"
      ]
     },
     "execution_count": 115,
     "metadata": {},
     "output_type": "execute_result"
    }
   ],
   "source": [
    "C2"
   ]
  },
  {
   "cell_type": "code",
   "execution_count": null,
   "id": "746efbe7-c4ce-41d3-b4ab-947cfb331e41",
   "metadata": {},
   "outputs": [],
   "source": []
  },
  {
   "cell_type": "markdown",
   "id": "230ad841-be4d-4200-88ce-c01864491d38",
   "metadata": {},
   "source": [
    "# 4) popitem\n",
    "* application: \n",
    "The popitem() method removes the item that was last inserted into the dictionar7\n",
    "* The removed item is the return value of the popitem() method, as a tuple, see example below."
   ]
  },
  {
   "cell_type": "code",
   "execution_count": 137,
   "id": "e40f2040-8224-4926-9f30-2567122391e3",
   "metadata": {},
   "outputs": [],
   "source": [
    "d1 ={\n",
    "    'COMPANY': 'farari',\n",
    "    'MODEL': 'a1',\n",
    "     'TYPES' : 'CLASIC',\n",
    "    'colour' : 'red'\n",
    "}"
   ]
  },
  {
   "cell_type": "code",
   "execution_count": 139,
   "id": "ed780133-3377-47da-87b1-7be3237fe701",
   "metadata": {},
   "outputs": [
    {
     "data": {
      "text/plain": [
       "('colour', 'red')"
      ]
     },
     "execution_count": 139,
     "metadata": {},
     "output_type": "execute_result"
    }
   ],
   "source": [
    "d1.popitem()\n"
   ]
  },
  {
   "cell_type": "code",
   "execution_count": null,
   "id": "6aac0fc4-58f4-4a04-a62c-09078c56d70a",
   "metadata": {},
   "outputs": [],
   "source": []
  },
  {
   "cell_type": "markdown",
   "id": "9a7f081a-fd04-4cc9-a564-448370c3cc5c",
   "metadata": {},
   "source": [
    "# 5) SETDEFAULT\n",
    "* Usage : \n",
    "The setdefault() method returns the value of the item with the specified key\n",
    "  * If the key does not exist, insert the key, with the specified value, see example below\n",
    "low\r\n",
    "\r\n"
   ]
  },
  {
   "cell_type": "code",
   "execution_count": 181,
   "id": "6249d891-be39-4b63-9316-99e7d030e593",
   "metadata": {},
   "outputs": [],
   "source": [
    "E1 ={\n",
    "    'SHOPS': 'NANU',\n",
    "    'LANDMARK': 'HP_PETROL_PUMP',\n",
    "     'TYPES' : 'DRY_FROODS',\n",
    "  \n",
    "}"
   ]
  },
  {
   "cell_type": "code",
   "execution_count": 184,
   "id": "e0b7e2e4-6260-4049-b01b-c9d086de8924",
   "metadata": {},
   "outputs": [
    {
     "data": {
      "text/plain": [
       "'2012'"
      ]
     },
     "execution_count": 184,
     "metadata": {},
     "output_type": "execute_result"
    }
   ],
   "source": [
    "E1.setdefault(\"year\", \"2012\")"
   ]
  },
  {
   "cell_type": "code",
   "execution_count": 186,
   "id": "4d65d55c-27c0-4f13-8684-f7387e787f96",
   "metadata": {},
   "outputs": [
    {
     "data": {
      "text/plain": [
       "{'SHOPS': 'NANU',\n",
       " 'LANDMARK': 'HP_PETROL_PUMP',\n",
       " 'TYPES': 'DRY_FROODS',\n",
       " 'year': '2012'}"
      ]
     },
     "execution_count": 186,
     "metadata": {},
     "output_type": "execute_result"
    }
   ],
   "source": [
    "E1"
   ]
  },
  {
   "cell_type": "code",
   "execution_count": null,
   "id": "0c6432b3-9990-42db-8923-403206eaed12",
   "metadata": {},
   "outputs": [],
   "source": []
  },
  {
   "cell_type": "markdown",
   "id": "b3daa555-a8e8-45ec-8777-f6889a487400",
   "metadata": {},
   "source": [
    "# 6) clear \n",
    "* The clear() method removes all the elements from a dictionary.\n",
    "* Remove all elements from the list"
   ]
  },
  {
   "cell_type": "code",
   "execution_count": 189,
   "id": "6e270f38-01ab-4be2-a14a-920914ab85d8",
   "metadata": {},
   "outputs": [],
   "source": [
    "F1 ={\n",
    "    'd': 'g',\n",
    "    's': 'g',\n",
    "     'q' : 'r',\n",
    "  \n",
    "}"
   ]
  },
  {
   "cell_type": "code",
   "execution_count": 191,
   "id": "2ddf5324-2994-4103-89d5-8f600c68ed77",
   "metadata": {},
   "outputs": [],
   "source": [
    "F1.clear()"
   ]
  },
  {
   "cell_type": "code",
   "execution_count": 193,
   "id": "66d79f46-3694-44f8-995d-704aa2d88ec0",
   "metadata": {},
   "outputs": [
    {
     "data": {
      "text/plain": [
       "{}"
      ]
     },
     "execution_count": 193,
     "metadata": {},
     "output_type": "execute_result"
    }
   ],
   "source": [
    "F1"
   ]
  },
  {
   "cell_type": "code",
   "execution_count": null,
   "id": "41c303ad-a3fd-480d-9019-3c5a09911649",
   "metadata": {},
   "outputs": [],
   "source": []
  },
  {
   "cell_type": "markdown",
   "id": "5b05db02-b227-49ac-bb93-a4a3fbcd95dc",
   "metadata": {},
   "source": [
    "# 7) updates\n",
    "* Insert an item to the dictionary\n",
    "* The update() method inserts the specified items to the dictionary.\n",
    "* The specified items can be a dictionary, or an iterable object with key value pairs"
   ]
  },
  {
   "cell_type": "code",
   "execution_count": 198,
   "id": "a6a13c67-7e0b-44ba-8a8a-3e4bb5805c5e",
   "metadata": {},
   "outputs": [],
   "source": [
    "G1 ={\n",
    "    'bike' : 'humter',\n",
    "    'model_no' : '350',\n",
    "    'date' : '18/05/2024',\n",
    "    \n",
    "}"
   ]
  },
  {
   "cell_type": "code",
   "execution_count": 206,
   "id": "1121703e-5df1-442d-bc7c-afb9fed92b9f",
   "metadata": {},
   "outputs": [],
   "source": [
    "G1.update({'colour' : 'black'})"
   ]
  },
  {
   "cell_type": "code",
   "execution_count": 210,
   "id": "ec2f3158-2ccf-48b4-b9a6-b2d3d0a4590c",
   "metadata": {},
   "outputs": [
    {
     "data": {
      "text/plain": [
       "{'bike': 'humter', 'model_no': '350', 'date': '18/05/2024', 'colour': 'black'}"
      ]
     },
     "execution_count": 210,
     "metadata": {},
     "output_type": "execute_result"
    }
   ],
   "source": [
    "G1"
   ]
  },
  {
   "cell_type": "code",
   "execution_count": 218,
   "id": "6a7e7c14-9fd1-49d6-8763-0125ceeb301e",
   "metadata": {},
   "outputs": [],
   "source": [
    "G1.update({'brek' : 'ABS_DUL_CHANNEL'}), \n",
    "G1.update({'avg' : '50khm'})"
   ]
  },
  {
   "cell_type": "code",
   "execution_count": 220,
   "id": "e44be2aa-6a60-442f-8c3e-763f27eeab41",
   "metadata": {},
   "outputs": [
    {
     "data": {
      "text/plain": [
       "{'bike': 'humter',\n",
       " 'model_no': '350',\n",
       " 'date': '18/05/2024',\n",
       " 'colour': 'black',\n",
       " 'brek': 'ABS_DUL_CHANNEL',\n",
       " 'avg': '50khm'}"
      ]
     },
     "execution_count": 220,
     "metadata": {},
     "output_type": "execute_result"
    }
   ],
   "source": [
    "G1"
   ]
  },
  {
   "cell_type": "code",
   "execution_count": null,
   "id": "66794757-cd33-4b68-ab65-51825fc0b9a4",
   "metadata": {},
   "outputs": [],
   "source": []
  },
  {
   "cell_type": "markdown",
   "id": "502eccef-d708-46da-95f1-227b119ebf45",
   "metadata": {},
   "source": [
    "# 8) values\n",
    "* The values() method returns a view object. The view object contains the values of the dictionary, as a list.\n",
    "* \r\n",
    "The view object will reflect any changes done to the dictionary, see example below."
   ]
  },
  {
   "cell_type": "code",
   "execution_count": 223,
   "id": "4ae73739-a3cb-4b19-b358-edeb58ad64fa",
   "metadata": {},
   "outputs": [],
   "source": [
    "H1 ={\n",
    "    'company' : 'royal',\n",
    "  'bike': 'humter',\n",
    "   'model_no': '350',\n",
    "   'date': '18/05/2024',\n",
    "   'colour': 'black',\n",
    "    'brek': 'ABS_DUL_CHANNEL',\n",
    "    'avg': '50khm'\n",
    "}"
   ]
  },
  {
   "cell_type": "code",
   "execution_count": 225,
   "id": "9f94af94-2dbf-4aec-addc-1e00930de56d",
   "metadata": {},
   "outputs": [
    {
     "data": {
      "text/plain": [
       "{'company': 'royal',\n",
       " 'bike': 'humter',\n",
       " 'model_no': '350',\n",
       " 'date': '18/05/2024',\n",
       " 'colour': 'black',\n",
       " 'brek': 'ABS_DUL_CHANNEL',\n",
       " 'avg': '50khm'}"
      ]
     },
     "execution_count": 225,
     "metadata": {},
     "output_type": "execute_result"
    }
   ],
   "source": [
    "H1"
   ]
  },
  {
   "cell_type": "code",
   "execution_count": 227,
   "id": "dcf81ea8-6f5b-44cb-a479-385a3e65f948",
   "metadata": {},
   "outputs": [
    {
     "data": {
      "text/plain": [
       "dict_values(['royal', 'humter', '350', '18/05/2024', 'black', 'ABS_DUL_CHANNEL', '50khm'])"
      ]
     },
     "execution_count": 227,
     "metadata": {},
     "output_type": "execute_result"
    }
   ],
   "source": [
    "H1.values()"
   ]
  },
  {
   "cell_type": "code",
   "execution_count": null,
   "id": "70349d45-c22a-44f1-99e5-c8ba8c9252bd",
   "metadata": {},
   "outputs": [],
   "source": []
  }
 ],
 "metadata": {
  "kernelspec": {
   "display_name": "Python 3 (ipykernel)",
   "language": "python",
   "name": "python3"
  },
  "language_info": {
   "codemirror_mode": {
    "name": "ipython",
    "version": 3
   },
   "file_extension": ".py",
   "mimetype": "text/x-python",
   "name": "python",
   "nbconvert_exporter": "python",
   "pygments_lexer": "ipython3",
   "version": "3.12.4"
  }
 },
 "nbformat": 4,
 "nbformat_minor": 5
}
